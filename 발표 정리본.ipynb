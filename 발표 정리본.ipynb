{
  "nbformat": 4,
  "nbformat_minor": 0,
  "metadata": {
    "colab": {
      "provenance": [],
      "authorship_tag": "ABX9TyPKHNAoCHhajI5lHil5TCl8",
      "include_colab_link": true
    },
    "kernelspec": {
      "name": "python3",
      "display_name": "Python 3"
    },
    "language_info": {
      "name": "python"
    }
  },
  "cells": [
    {
      "cell_type": "markdown",
      "metadata": {
        "id": "view-in-github",
        "colab_type": "text"
      },
      "source": [
        "<a href=\"https://colab.research.google.com/github/ev1025/Ticketing-Prediction/blob/main/%EB%B0%9C%ED%91%9C%20%EC%A0%95%EB%A6%AC%EB%B3%B8.ipynb\" target=\"_parent\"><img src=\"https://colab.research.google.com/assets/colab-badge.svg\" alt=\"Open In Colab\"/></a>"
      ]
    },
    {
      "cell_type": "markdown",
      "source": [
        "## 데이터 전처리"
      ],
      "metadata": {
        "id": "1GrU6Fzl-xFK"
      }
    },
    {
      "cell_type": "markdown",
      "source": [
        "- membership.csv : 고객 데이터(고객번호, 나이, 직업, 좋아하는 선수)\n",
        "- reserve_ticket.csv : 티켓 판매 데이터(주문번호, 고객번호, 주문시간, 경기시간, 취소유무, 티켓번호, 예매좌석 정보)\n",
        "- d95e264436cf42de.xlsx : 프로팀 일자별 순위\n",
        "- schedule2022120221019212245.xml : 경기 결과(경기시간, 경기정보, 관객 수)"
      ],
      "metadata": {
        "id": "iEdqMMmA-zZy"
      }
    }
  ]
}