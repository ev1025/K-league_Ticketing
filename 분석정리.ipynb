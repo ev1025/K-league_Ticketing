{
  "nbformat": 4,
  "nbformat_minor": 0,
  "metadata": {
    "colab": {
      "provenance": [],
      "authorship_tag": "ABX9TyOd0TkXD0RfMp0kLknt6HZi",
      "include_colab_link": true
    },
    "kernelspec": {
      "name": "python3",
      "display_name": "Python 3"
    },
    "language_info": {
      "name": "python"
    }
  },
  "cells": [
    {
      "cell_type": "markdown",
      "metadata": {
        "id": "view-in-github",
        "colab_type": "text"
      },
      "source": [
        "<a href=\"https://colab.research.google.com/github/ev1025/Ticketing-Prediction/blob/main/%EB%B6%84%EC%84%9D%EC%A0%95%EB%A6%AC.ipynb\" target=\"_parent\"><img src=\"https://colab.research.google.com/assets/colab-badge.svg\" alt=\"Open In Colab\"/></a>"
      ]
    },
    {
      "cell_type": "markdown",
      "source": [
        "## 가설"
      ],
      "metadata": {
        "id": "1Z2diNw5pJ7A"
      }
    },
    {
      "cell_type": "markdown",
      "source": [
        "## 데이터 전처리"
      ],
      "metadata": {
        "id": "1GrU6Fzl-xFK"
      }
    },
    {
      "cell_type": "markdown",
      "source": [
        "1. membership.csv : 고객 데이터(고객번호, 나이, 직업, 좋아하는 선수)\n",
        "   - zipcode와 job이 결측치이고 좋아하는 선수가 무고사인 고객이 많음\n",
        "   - 회원가입시 기본 값으로 예상됨\n",
        "   - zipcode의 결측치를 0으로 job의 결측치를 '기타'로 채워줌\n"
      ],
      "metadata": {
        "id": "iEdqMMmA-zZy"
      }
    },
    {
      "cell_type": "markdown",
      "source": [
        "2. reserve_ticket.csv : 티켓 판매 데이터(주문번호, 고객번호, 주문시간, 경기시간, 취소유무, 티켓번호, 예매좌석 정보)\n",
        "   - 스카이라운지는 열 번호가 없어서 seat_Attribute_5 컬럼을 'sky'로 채워줌\n",
        "   - 중복된 컬럼이 있어서 detail_cancel_date_time 컬럼 제거\n",
        "   - 예매, 예매취소 시간이 나누어져 있어서 한 컬럼으로 합침\n",
        "   - 기타 게임시간 관련 컬럼을 생성 및 추가(경기시간 datetime, 요일, 월 컬럼 추가)\n",
        "   - df4에서 경기 상대 팀 정보 가져와서 merge\n"
      ],
      "metadata": {
        "id": "R3LvO2CNo6RP"
      }
    },
    {
      "cell_type": "markdown",
      "source": [
        "3. d95e264436cf42de.xlsx : 프로팀 일자별 순위\n",
        "   - 2022년 경기 순위만 남기고 제거\n"
      ],
      "metadata": {
        "id": "SvAHG26no_Io"
      }
    },
    {
      "cell_type": "markdown",
      "source": [
        "4. schedule2022120221019212245.xml : 경기 결과(경기시간, 경기정보, 관객 수)\n",
        "   - 한글 인코딩 문제가 발생하여, 디코딩 후 인코딩을 진행하고 다시 디코딩하여 문제 해결\n",
        "   - 승부차기 내역이 없어서 home_team_tk, away_team_tk 컬럼 삭제\n",
        "   - 게임시간 컬럼을 datetime형식으로, 요일 컬럼을 숫자로 변경"
      ],
      "metadata": {
        "id": "HnHH_Lz5pCNg"
      }
    },
    {
      "cell_type": "markdown",
      "source": [
        "## 데이터 분석"
      ],
      "metadata": {
        "id": "k4NkWQa1pHRq"
      }
    }
  ]
}