{
  "nbformat": 4,
  "nbformat_minor": 0,
  "metadata": {
    "colab": {
      "provenance": [],
      "collapsed_sections": [
        "8STh1_i09F3a"
      ]
    },
    "kernelspec": {
      "name": "python3",
      "display_name": "Python 3"
    },
    "language_info": {
      "name": "python"
    }
  },
  "cells": [
    {
      "cell_type": "markdown",
      "source": [
        "# 프로젝트 목표(기업)"
      ],
      "metadata": {
        "id": "8STh1_i09F3a"
      }
    },
    {
      "cell_type": "markdown",
      "source": [
        "### 결과 및 측정 데이터 분석 및 예매 예측"
      ],
      "metadata": {
        "id": "2Ala9UW_B4nf"
      }
    },
    {
      "cell_type": "markdown",
      "source": [
        "1. 지난 경기 관람 만족도 연계 다음경기 예매 예측\n",
        "   - 이겼다\n",
        "   - 이겼지만 마음에 들지 않음\n",
        "   - 무승부\n",
        "   - 졌지만 잘싸웠다\n",
        "   - 졌다   \n",
        "2. 관람여부와 경기결과 및 순위에 따른 예매 예측(+고급좌석 예매 예측)\n",
        "   - **관람**\n",
        "      - 승리\n",
        "        - 상위\n",
        "        - 중위\n",
        "        - 하위\n",
        "      - 패배\n",
        "        - 상위\n",
        "        - 중위\n",
        "        - 하위\n",
        "   - **비관람**\n",
        "      - 승리\n",
        "        - 상위\n",
        "        - 중위\n",
        "        - 하위\n",
        "      - 패배\n",
        "        - 상위\n",
        "        - 중위\n",
        "        - 하위\n",
        "     "
      ],
      "metadata": {
        "id": "Fy3GZvKl9Lol"
      }
    },
    {
      "cell_type": "markdown",
      "source": [
        "### 예매 촉진 지표 분석 및 적정 프로모션 수준 예측"
      ],
      "metadata": {
        "id": "YhdfCIYMB_Z6"
      }
    },
    {
      "cell_type": "markdown",
      "source": [
        "1. 경기 결과 및 순위에 따른 가격 인상,할인,프로모션 진행의 실효성\n",
        "   - 가격 인상\n",
        "   - 가격 할인\n",
        "   - 프로모션\n",
        "2. 경기 관람 만족도에 따른 분석 및 예측 모델링\n",
        "   - 만족도\n",
        "      - 경기장 시설(청결도, 온도조절)\n",
        "      - 경기장 운영 \n",
        "      - 경기내용\n",
        "      - 음식의 맛\n",
        "      - 관람료"
      ],
      "metadata": {
        "id": "ZtfyVv9CCODm"
      }
    },
    {
      "cell_type": "markdown",
      "source": [
        "### 예매 촉진을 위한 프로모션 대상자 세분화 및 촉진 방법 제안"
      ],
      "metadata": {
        "id": "Bxz750S7D_Co"
      }
    },
    {
      "cell_type": "markdown",
      "source": [
        "1. 고객 세분화 및 액션아이템 고안\n",
        "  - 고객 세분화\n",
        "    - 적절한 할인율\n",
        "    - 적절한 프로모션\n",
        "    - 고급좌석이용고객 별도 세분화"
      ],
      "metadata": {
        "id": "579E2dw3EQP4"
      }
    },
    {
      "cell_type": "markdown",
      "source": [
        "### 가설"
      ],
      "metadata": {
        "id": "WLJn__WVFKiJ"
      }
    },
    {
      "cell_type": "markdown",
      "source": [
        "- 지난경기의 관람 여부, 순위, 경기결과에 따라 예매 수가 다를 것이다.\n",
        "- 위의 가설에 해당하지 않는 고객군이 존재 할 것이다.\n",
        "- 예매유도에 반응하는 고객군이 있을 것이다.\n",
        "- 고급좌석 이용을 예측할 수 있다."
      ],
      "metadata": {
        "id": "06B4YF7SFM1J"
      }
    },
    {
      "cell_type": "markdown",
      "source": [
        "# 나의 생각"
      ],
      "metadata": {
        "id": "jvqKb0kmB82q"
      }
    },
    {
      "cell_type": "markdown",
      "source": [
        "### 기업에서 원하는 것"
      ],
      "metadata": {
        "id": "ioj5MaJOGuL3"
      }
    },
    {
      "cell_type": "markdown",
      "source": [
        "- 관람여부, 경기결과, 순위가 예매에 미치는 영향 분석 및 모델링\n",
        "- 마케팅에 반응하는 고객층을 찾아서 수익 극대화\n",
        "- 고급좌석 이용률을 높이는 방법에 대한 고민"
      ],
      "metadata": {
        "id": "-6oSTy_JGCD2"
      }
    },
    {
      "cell_type": "markdown",
      "source": [
        "### 가설"
      ],
      "metadata": {
        "id": "CnlRKvjrIb5o"
      }
    },
    {
      "cell_type": "markdown",
      "source": [
        "- 일반팬과 골수팬을 분류할 수 있다.\n",
        "- 경기의 승패는 예매와 관련이 없을 것이다.\n",
        "- 관람이 뜸한 충성고객을 찾아서 다시 불러들일 수 있다."
      ],
      "metadata": {
        "id": "JwgAcgl1IdY-"
      }
    },
    {
      "cell_type": "markdown",
      "source": [
        "### 프로모션(아이디어)"
      ],
      "metadata": {
        "id": "UbrkTcHAHORl"
      }
    },
    {
      "cell_type": "markdown",
      "source": [
        "- 질 것 같은 경기일 수록 응원의 힘으로 승리를 이끌어야 한다.   \n",
        "=> 전력상 패배가 예상되는 팀의 좌석을 예매한 고객에 한해서 그 경기가 승리할 경우 고급좌석 예매 할인 쿠폰 제공\n",
        "\n",
        "- 승부예측    \n",
        "경기의 스코어를 맞추는 고객에 한하여 쿠폰지급\n",
        "\n"
      ],
      "metadata": {
        "id": "S3iZuTjn_keA"
      }
    },
    {
      "cell_type": "markdown",
      "source": [
        "# 데이터"
      ],
      "metadata": {
        "id": "v8cJMedenTVu"
      }
    },
    {
      "cell_type": "markdown",
      "source": [
        "## 데이터 전처리"
      ],
      "metadata": {
        "id": "7l2mFVM1_IGB"
      }
    },
    {
      "cell_type": "code",
      "source": [
        "import matplotlib.pyplot as plt\n",
        "import seaborn as sns\n",
        "import numpy as np\n",
        "import pandas as pd"
      ],
      "metadata": {
        "id": "6rsSlCZDuFEY"
      },
      "execution_count": null,
      "outputs": []
    },
    {
      "cell_type": "code",
      "source": [
        "from google.colab import drive\n",
        "drive.mount('/content/drive')"
      ],
      "metadata": {
        "id": "VTzZmmTj_I-m",
        "colab": {
          "base_uri": "https://localhost:8080/"
        },
        "outputId": "bc03961f-38c7-4af5-d4dc-f8c91da0ceff"
      },
      "execution_count": null,
      "outputs": [
        {
          "output_type": "stream",
          "name": "stdout",
          "text": [
            "Drive already mounted at /content/drive; to attempt to forcibly remount, call drive.mount(\"/content/drive\", force_remount=True).\n"
          ]
        }
      ]
    },
    {
      "cell_type": "code",
      "source": [
        "df1 = pd.read_csv('/content/drive/MyDrive/더케이/membership.csv')       # 고객테이블\n",
        "df2 = pd.read_csv('/content/drive/MyDrive/더케이/reserve_ticket_.csv')  # 티켓\n",
        "df3 = pd.read_excel('/content/drive/MyDrive/더케이/d95e264436cf42de.xlsx',engine = 'openpyxl',names=['game_date','rank'], header=None) # 일자별 순위, (excel파일 여는방법)\n",
        "df5 = pd.read_csv('/content/drive/MyDrive/더케이/survey_complete_.csv') # 설문1\n",
        "df6 = pd.read_csv('/content/drive/MyDrive/더케이/survey_item.csv')      # 설문2\n",
        "df7 = pd.read_csv('/content/drive/MyDrive/더케이/survey_main.csv')      # 설문3\n",
        "df8 = pd.read_csv('/content/drive/MyDrive/더케이/survey_result.csv')    # 설문4\n"
      ],
      "metadata": {
        "id": "s96BfBix_KW8"
      },
      "execution_count": null,
      "outputs": []
    },
    {
      "cell_type": "code",
      "source": [
        "# df4 경기결과 및 관중 수 \n",
        "# xml 여는법 다시 찾아보기\n",
        "# 인코딩 깨질 때는 encode -> decode 다시 할 것\n",
        "import xml.etree.ElementTree as ET\n",
        "tree = ET.parse('/content/drive/MyDrive/더케이/schedule2022120221019212245.xml', parser=ET.XMLParser(encoding='latin1')) # multi encode오류 날 때 'latin-1',  'iso-8859-5', 'cp1252'\n",
        "root = tree.getroot()\n",
        "\n",
        "empty_list = []\n",
        "for i in root: # i.tag , i.attrib 알아보기\n",
        "    i.attrib['yoil'] = i.attrib['yoil'].encode('latin-1').decode('euc-kr')\n",
        "    i.attrib['meet_name'] = i.attrib['meet_name'].encode('latin-1').decode('euc-kr')\n",
        "    i.attrib['home_team_name'] = i.attrib['home_team_name'].encode('latin-1').decode('euc-kr')\n",
        "    i.attrib['away_team_name'] = i.attrib['away_team_name'].encode('latin-1').decode('euc-kr')\n",
        "    i.attrib['game_type_name'] = i.attrib['game_type_name'].encode('latin-1').decode('euc-kr')\n",
        "    i.attrib['field_name'] = i.attrib['field_name'].encode('latin-1').decode('euc-kr')\n",
        "    empty_list.append(i.attrib)"
      ],
      "metadata": {
        "id": "1c6jDser_LyR"
      },
      "execution_count": null,
      "outputs": []
    },
    {
      "cell_type": "code",
      "source": [
        "# 리스트 안의 dict[{}]를 데이터프레임으로 만들기\n",
        "empty_df = pd.DataFrame() # 빈 데이터프레임 만들기\n",
        "for i in empty_list:\n",
        "    i = pd.DataFrame.from_dict(i, orient='index').T # dict를 dataframe으로 만들기\n",
        "    empty_df = empty_df.append(i)                   # 각 dataframe을 빈데이터프레임에 추가\n",
        "df4 = empty_df.reset_index(drop=True)"
      ],
      "metadata": {
        "id": "d1bGJhlb_NmE"
      },
      "execution_count": null,
      "outputs": []
    },
    {
      "cell_type": "code",
      "source": [
        "# 잘 저장됐는지 확인\n",
        "# empty_df.to_csv('/content/drive/MyDrive/더케이/schedule.csv', index=False)\n",
        "# a = pd.read_csv('/content/drive/MyDrive/더케이/schedule.csv', parse_dates=[\"game_date\"])"
      ],
      "metadata": {
        "id": "6H7WSsqujn1B"
      },
      "execution_count": null,
      "outputs": []
    },
    {
      "cell_type": "code",
      "source": [
        "df1"
      ],
      "metadata": {
        "id": "c_czoHg6yhcW"
      },
      "execution_count": null,
      "outputs": []
    },
    {
      "cell_type": "code",
      "source": [
        "df2.tail()"
      ],
      "metadata": {
        "id": "bKP560M6BGiY"
      },
      "execution_count": null,
      "outputs": []
    },
    {
      "cell_type": "code",
      "source": [
        "df2 # 티켓 예매\n",
        "df2.iloc[0][6] # 복사해서 추출할것\n",
        "# df2[df2['match_info'] == '[하나 원큐 K 리그1 2019] 인천 유나이티드 vs 제주 유나이티드']"
      ],
      "metadata": {
        "id": "eGEJ9_MqJa5J",
        "colab": {
          "base_uri": "https://localhost:8080/",
          "height": 35
        },
        "outputId": "8422e835-abb1-40a9-acfe-86228fdbd7a1"
      },
      "execution_count": null,
      "outputs": [
        {
          "output_type": "execute_result",
          "data": {
            "text/plain": [
              "'[하나 원큐 K 리그1 2019] 인천 유나이티드 vs 제주 유나이티드'"
            ],
            "application/vnd.google.colaboratory.intrinsic+json": {
              "type": "string"
            }
          },
          "metadata": {},
          "execution_count": 9
        }
      ]
    },
    {
      "cell_type": "code",
      "source": [
        "# from category_encoders import OrdinalEncoder\n",
        "\n",
        "# enc1 = OrdinalEncoder(cols = 'color')\n",
        "# df2 = enc1.fit_transform(df2)"
      ],
      "metadata": {
        "id": "3bVv3RBiCoKm"
      },
      "execution_count": null,
      "outputs": []
    },
    {
      "cell_type": "code",
      "source": [
        "df3 # 일자별 순위\n",
        "year_rank = df3[df3['game_date'] > '2022.02.01'].reset_index(drop=True)\n",
        "# year_rank"
      ],
      "metadata": {
        "id": "nWMByrszKQLx"
      },
      "execution_count": null,
      "outputs": []
    },
    {
      "cell_type": "code",
      "source": [
        "df4.info()"
      ],
      "metadata": {
        "id": "swW-o_tmDP0_"
      },
      "execution_count": null,
      "outputs": []
    },
    {
      "cell_type": "code",
      "source": [
        "df4 # 2022년 경기 일정"
      ],
      "metadata": {
        "id": "DEs522VxPCVJ"
      },
      "execution_count": null,
      "outputs": []
    },
    {
      "cell_type": "code",
      "source": [
        "# k리그는 12팀으로 진행됨, k리그 팀목록\n",
        "abc = df4[['home_team','home_team_name','away_team','away_team_name']].sort_values(by='home_team').reset_index(drop=True)\n",
        "home_num = {abc.loc[i][0]:abc.loc[i][1] for i in range(len(abc))}\n",
        "away_num = {abc.loc[i][2]:abc.loc[i][3] for i in range(len(abc))}\n",
        "all_num = dict(home_num,**away_num)"
      ],
      "metadata": {
        "id": "QUyDpWoTPpE9"
      },
      "execution_count": null,
      "outputs": []
    },
    {
      "cell_type": "markdown",
      "source": [
        "**tk(승부차기) 컬럼 삭제, 연도와 각 팀, 경기장의 id번호 삭제**"
      ],
      "metadata": {
        "id": "q4xBW-CgbX2p"
      }
    },
    {
      "cell_type": "code",
      "source": [
        "df4['home_team_tk'].unique()"
      ],
      "metadata": {
        "colab": {
          "base_uri": "https://localhost:8080/"
        },
        "id": "RP45tDlXbHhs",
        "outputId": "ca1ca65b-42a8-4be7-ffe6-b3f96a89c381"
      },
      "execution_count": null,
      "outputs": [
        {
          "output_type": "execute_result",
          "data": {
            "text/plain": [
              "array(['0', nan], dtype=object)"
            ]
          },
          "metadata": {},
          "execution_count": 15
        }
      ]
    },
    {
      "cell_type": "code",
      "source": [
        "df4['away_team_tk'].unique()"
      ],
      "metadata": {
        "colab": {
          "base_uri": "https://localhost:8080/"
        },
        "id": "XfvWooW6bP6u",
        "outputId": "5449c5a2-583c-4eaa-c730-1d6e2310b356"
      },
      "execution_count": null,
      "outputs": [
        {
          "output_type": "execute_result",
          "data": {
            "text/plain": [
              "array(['0', nan], dtype=object)"
            ]
          },
          "metadata": {},
          "execution_count": 16
        }
      ]
    },
    {
      "cell_type": "code",
      "source": [
        "df4.drop(columns = ['home_team_tk','away_team_tk','meet_year','meet_seq','meet_name','home_team','away_team','field_id'],inplace=True,)"
      ],
      "metadata": {
        "id": "tnhzWdlZbjhw"
      },
      "execution_count": null,
      "outputs": []
    },
    {
      "cell_type": "code",
      "source": [
        "# 숫자데이터 숫자로 변경\n",
        "df4[['game_id','audience']] = df4[['game_id','audience']].astype(int)\n",
        "\n",
        "# 날짜데이터 datetime변경\n",
        "df4['game_date'] = pd.to_datetime(df4['game_date'])\n",
        "\n",
        "df4['yoil'] = df4['yoil'].replace({'월':0,'화':1,'수':2,'목':3,'금':4,'토':5,'일':6})"
      ],
      "metadata": {
        "id": "6N0uTcKbifMY"
      },
      "execution_count": null,
      "outputs": []
    },
    {
      "cell_type": "markdown",
      "source": [
        "## 데이터 분석"
      ],
      "metadata": {
        "id": "z7JCAyGynXOM"
      }
    },
    {
      "cell_type": "markdown",
      "source": [],
      "metadata": {
        "id": "xxV4F0BdiYb7"
      }
    },
    {
      "cell_type": "markdown",
      "source": [
        "### 랭킹데이터 + 직전 경기 승패 (df3+df4)"
      ],
      "metadata": {
        "id": "FpiAoddknb_b"
      }
    },
    {
      "cell_type": "code",
      "source": [
        "# 경기결과 + 순위\n",
        "merge_df = pd.merge(year_rank, df4, how='inner',on='game_date')\n",
        "\n",
        "# 인천 경기장 경기\n",
        "home_game = merge_df[merge_df['field_name']=='인천']  \n",
        "\n",
        "# 인천 경기\n",
        "home_team = merge_df[(merge_df['home_team_name']=='인천') | (merge_df['away_team_name']=='인천')].reset_index()"
      ],
      "metadata": {
        "id": "lK6TQv3-D4KO"
      },
      "execution_count": null,
      "outputs": []
    },
    {
      "cell_type": "code",
      "source": [
        "# result 컬럼 직전 경기 승, 무, 패 기록\n",
        "home_team['result'] = 0\n",
        "for i in range(len(home_team)):\n",
        "    if (home_team['home_team_name'][i]=='인천') and (home_team['home_team_goal'][i]> home_team['away_team_goal'][i]):\n",
        "        home_team['result'][i] = '승리'\n",
        "    elif (home_team['away_team_name'][i]=='인천') and (home_team['home_team_goal'][i]< home_team['away_team_goal'][i]):\n",
        "        home_team['result'][i] = '승리'\n",
        "    elif (home_team['away_team_name'][i]=='인천') and (home_team['home_team_goal'][i] == home_team['away_team_goal'][i]):\n",
        "        home_team['result'][i] = '무승부'\n",
        "    else:\n",
        "        home_team['result'][i] = '패배'\n",
        "home_team['result'] = home_team.result.shift()"
      ],
      "metadata": {
        "id": "bQj-EhGfKGgj",
        "colab": {
          "base_uri": "https://localhost:8080/"
        },
        "outputId": "131fd376-0385-4b56-b336-821440c4ee6c"
      },
      "execution_count": null,
      "outputs": [
        {
          "output_type": "stream",
          "name": "stderr",
          "text": [
            "<ipython-input-20-24c23529ac47>:5: SettingWithCopyWarning: \n",
            "A value is trying to be set on a copy of a slice from a DataFrame\n",
            "\n",
            "See the caveats in the documentation: https://pandas.pydata.org/pandas-docs/stable/user_guide/indexing.html#returning-a-view-versus-a-copy\n",
            "  home_team['result'][i] = '승리'\n",
            "/usr/local/lib/python3.8/dist-packages/pandas/core/indexing.py:1732: SettingWithCopyWarning: \n",
            "A value is trying to be set on a copy of a slice from a DataFrame\n",
            "\n",
            "See the caveats in the documentation: https://pandas.pydata.org/pandas-docs/stable/user_guide/indexing.html#returning-a-view-versus-a-copy\n",
            "  self._setitem_single_block(indexer, value, name)\n"
          ]
        }
      ]
    },
    {
      "cell_type": "code",
      "source": [
        "# 인천 경기장만 추출\n",
        "diff = home_team[home_team['field_name'] == '인천']"
      ],
      "metadata": {
        "id": "2hGreNCBRpNT"
      },
      "execution_count": null,
      "outputs": []
    },
    {
      "cell_type": "code",
      "source": [
        "# 인천 경기장 승,무,패에 따른 그래프\n",
        "result = list(diff['result'].unique())\n",
        "del result[0]\n",
        "\n",
        "plt.figure(figsize=(12,8))\n",
        "for i in result:\n",
        "    plt.plot(diff[diff['result']==i].groupby('yoil')['audience'].mean())\n",
        "plt.plot(diff.groupby('yoil')['audience'].mean())\n",
        "plt.ylabel('평균 인원', fontsize=18, labelpad=40, rotation='horizontal')\n",
        "plt.xlabel('경기 요일', fontsize=18, labelpad=20)\n",
        "plt.xticks(range(7),['월','화','수','목','금','토','일'])\n",
        "plt.legend(['승리','패배','무승부','평균'])\n",
        "plt.show();\n"
      ],
      "metadata": {
        "id": "j06F0FzaT3nw"
      },
      "execution_count": null,
      "outputs": []
    },
    {
      "cell_type": "markdown",
      "source": [
        "### 경기 결과 및 관객 수 (df4)"
      ],
      "metadata": {
        "id": "rNY_g8RYnbwv"
      }
    },
    {
      "cell_type": "markdown",
      "source": [
        "**요일별 시간별 경기 수**"
      ],
      "metadata": {
        "id": "zTD_pBNnnCul"
      }
    },
    {
      "cell_type": "code",
      "source": [
        "# 한글 그래프 폰트(런타임재시작)\n",
        "!sudo apt-get install -y fonts-nanum\n",
        "!sudo fc-cache -fv\n",
        "!rm ~/.cache/matplotlib -rf"
      ],
      "metadata": {
        "id": "9_hslskhsgMq",
        "colab": {
          "base_uri": "https://localhost:8080/"
        },
        "outputId": "dc92b7f6-42c9-4057-cbd8-d8759bf9a71c"
      },
      "execution_count": null,
      "outputs": [
        {
          "output_type": "stream",
          "name": "stdout",
          "text": [
            "Reading package lists... Done\n",
            "Building dependency tree       \n",
            "Reading state information... Done\n",
            "fonts-nanum is already the newest version (20180306-3).\n",
            "0 upgraded, 0 newly installed, 0 to remove and 23 not upgraded.\n",
            "/usr/share/fonts: caching, new cache contents: 0 fonts, 1 dirs\n",
            "/usr/share/fonts/truetype: caching, new cache contents: 0 fonts, 3 dirs\n",
            "/usr/share/fonts/truetype/humor-sans: caching, new cache contents: 1 fonts, 0 dirs\n",
            "/usr/share/fonts/truetype/liberation: caching, new cache contents: 16 fonts, 0 dirs\n",
            "/usr/share/fonts/truetype/nanum: caching, new cache contents: 10 fonts, 0 dirs\n",
            "/usr/local/share/fonts: caching, new cache contents: 0 fonts, 0 dirs\n",
            "/root/.local/share/fonts: skipping, no such directory\n",
            "/root/.fonts: skipping, no such directory\n",
            "/usr/share/fonts/truetype: skipping, looped directory detected\n",
            "/usr/share/fonts/truetype/humor-sans: skipping, looped directory detected\n",
            "/usr/share/fonts/truetype/liberation: skipping, looped directory detected\n",
            "/usr/share/fonts/truetype/nanum: skipping, looped directory detected\n",
            "/var/cache/fontconfig: cleaning cache directory\n",
            "/root/.cache/fontconfig: not cleaning non-existent cache directory\n",
            "/root/.fontconfig: not cleaning non-existent cache directory\n",
            "fc-cache: succeeded\n"
          ]
        }
      ]
    },
    {
      "cell_type": "code",
      "source": [
        "plt.rc('font', family='NanumBarunGothic')\n",
        "plt.rc('font', size=15)"
      ],
      "metadata": {
        "id": "LR8D6QphuLN2"
      },
      "execution_count": null,
      "outputs": []
    },
    {
      "cell_type": "code",
      "source": [
        "# 요일별,시간대별 히트맵\n",
        "data = df4.pivot_table(index='yoil', columns='game_time', values='game_id', aggfunc=['count']) # aggfunc는 값에 적용해줄 함수\n",
        "data.index = ['월','화','수','목','금','토','일']\n",
        "data.columns = [i[1] for i in data.columns]"
      ],
      "metadata": {
        "id": "t1OcvBqsVC8r"
      },
      "execution_count": null,
      "outputs": []
    },
    {
      "cell_type": "code",
      "source": [
        "plt.figure(figsize=(15,8))\n",
        "sns.heatmap(data.T,cmap='Blues', annot=True)\n",
        "plt.yticks(rotation='horizontal')\n",
        "plt.ylabel('경기 시간', fontsize=18, labelpad=40, rotation='horizontal')\n",
        "plt.xlabel('경기 요일', fontsize=18, labelpad=20)\n",
        "plt.show();"
      ],
      "metadata": {
        "id": "VucVWiyiTr0j"
      },
      "execution_count": null,
      "outputs": []
    },
    {
      "cell_type": "code",
      "source": [
        "# 요일과 시간별 경기 수\n",
        "group_day = df4.groupby(['yoil','game_time'])[['game_id']].count()\n",
        "group_day.reset_index(inplace=True)\n",
        "\n",
        "# 데이터가 월화수목금토일 순으로 정렬되도록\n",
        "group_day.sort_values(by='yoil',inplace=True)\n",
        "group_day.sort_values(by='game_time',inplace=True,ascending=False)\n",
        "\n",
        "\n",
        "plt.figure(figsize=(15,9))\n",
        "plt.scatter(group_day.yoil,\n",
        "            group_day.game_time,\n",
        "            s = group_day.game_id*100,\n",
        "            c = group_day.game_id,\n",
        "            cmap='Blues',\n",
        "            vmin =0,\n",
        "            vmax = group_day.game_id.max())\n",
        "plt.xticks(range(group_day['yoil'].nunique()),['월','화','수','목','금','토','일'])\n",
        "plt.colorbar()\n",
        "plt.ylabel('경기 시간', fontsize=18, labelpad=40, rotation='horizontal')\n",
        "plt.xlabel('경기 요일', fontsize=18, labelpad=20)\n",
        "plt.show();"
      ],
      "metadata": {
        "id": "C2nXtPil8oAq"
      },
      "execution_count": null,
      "outputs": []
    },
    {
      "cell_type": "markdown",
      "source": [
        "**요일별 시간별 관객 수**"
      ],
      "metadata": {
        "id": "8j5iuCncnF-i"
      }
    },
    {
      "cell_type": "code",
      "source": [
        "# 요일,시간별 관객수\n",
        "group_day2 = df4.groupby(['yoil','game_time'])[['audience']].sum()\n",
        "group_day2.reset_index(inplace=True)\n",
        "\n",
        "# 데이터가 월화수목금토일 순으로 정렬되도록\n",
        "group_day2['yoil'].replace({'월':0,'화':1,'수':2,'목':3,'금':4,'토':5,'일':6},inplace=True)\n",
        "group_day2.sort_values(by='yoil',inplace=True)\n",
        "group_day2.sort_values(by='game_time',inplace=True,ascending=False)\n",
        "\n",
        "\n",
        "plt.figure(figsize=(15,9))\n",
        "plt.scatter(group_day2.yoil,\n",
        "            group_day2.game_time,\n",
        "            s = group_day2.audience/50,\n",
        "            c = group_day2.audience,\n",
        "            cmap='Blues',\n",
        "            vmin =0,\n",
        "            vmax = group_day2.audience.max())\n",
        "plt.xticks(range(group_day2['yoil'].nunique()),['월','화','수','목','금','토','일'])\n",
        "plt.colorbar()\n",
        "plt.ylabel('경기 시간', fontsize=18, labelpad=40, rotation='horizontal')\n",
        "plt.xlabel('경기 요일', fontsize=18, labelpad=20)\n",
        "plt.show();"
      ],
      "metadata": {
        "id": "Ir1C4QCFk1xD"
      },
      "execution_count": null,
      "outputs": []
    }
  ]
}